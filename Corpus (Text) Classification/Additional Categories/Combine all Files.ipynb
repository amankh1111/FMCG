{
 "cells": [
  {
   "cell_type": "code",
   "execution_count": 3,
   "metadata": {},
   "outputs": [],
   "source": [
    "import pandas as pd\n",
    "import sys\n",
    "import os\n",
    "import glob"
   ]
  },
  {
   "cell_type": "code",
   "execution_count": 4,
   "metadata": {},
   "outputs": [],
   "source": [
    "os.chdir(r\"C:\\Users\\aman.khatri91425\\Desktop\\HomeCredit\\Bigdata\\Corpus Classification\")"
   ]
  },
  {
   "cell_type": "code",
   "execution_count": 24,
   "metadata": {},
   "outputs": [
    {
     "name": "stderr",
     "output_type": "stream",
     "text": [
      "C:\\Users\\aman.khatri91425\\AppData\\Local\\Continuum\\anaconda3\\lib\\site-packages\\ipykernel_launcher.py:4: FutureWarning: Sorting because non-concatenation axis is not aligned. A future version\n",
      "of pandas will change to not sort by default.\n",
      "\n",
      "To accept the future behavior, pass 'sort=False'.\n",
      "\n",
      "To retain the current behavior and silence the warning, pass 'sort=True'.\n",
      "\n",
      "  after removing the cwd from sys.path.\n"
     ]
    }
   ],
   "source": [
    "df = pd.DataFrame()\n",
    "\n",
    "for fname in glob.glob(os.getcwd()+\"/Data Files/New Categories/*.xlsx\"):\n",
    "    df = pd.concat([df,pd.read_excel(fname)])"
   ]
  },
  {
   "cell_type": "code",
   "execution_count": 28,
   "metadata": {},
   "outputs": [],
   "source": [
    "df.reset_index(inplace = True)"
   ]
  },
  {
   "cell_type": "code",
   "execution_count": 32,
   "metadata": {},
   "outputs": [],
   "source": [
    "df.to_csv(os.getcwd()+\"/Data Files/new_categories_combined.csv\")"
   ]
  },
  {
   "cell_type": "code",
   "execution_count": 6,
   "metadata": {},
   "outputs": [
    {
     "name": "stderr",
     "output_type": "stream",
     "text": [
      "C:\\Users\\aman.khatri91425\\AppData\\Local\\Continuum\\anaconda3\\lib\\site-packages\\IPython\\core\\interactiveshell.py:3049: DtypeWarning: Columns (12) have mixed types. Specify dtype option on import or set low_memory=False.\n",
      "  interactivity=interactivity, compiler=compiler, result=result)\n"
     ]
    }
   ],
   "source": [
    "df = pd.read_csv(os.getcwd()+\"/Data Files/new_categories_combined.csv\")"
   ]
  },
  {
   "cell_type": "code",
   "execution_count": 7,
   "metadata": {},
   "outputs": [
    {
     "data": {
      "text/html": [
       "<div>\n",
       "<style scoped>\n",
       "    .dataframe tbody tr th:only-of-type {\n",
       "        vertical-align: middle;\n",
       "    }\n",
       "\n",
       "    .dataframe tbody tr th {\n",
       "        vertical-align: top;\n",
       "    }\n",
       "\n",
       "    .dataframe thead th {\n",
       "        text-align: right;\n",
       "    }\n",
       "</style>\n",
       "<table border=\"1\" class=\"dataframe\">\n",
       "  <thead>\n",
       "    <tr style=\"text-align: right;\">\n",
       "      <th></th>\n",
       "      <th>Unnamed: 0</th>\n",
       "      <th>index</th>\n",
       "      <th>account_number</th>\n",
       "      <th>account_number_desc</th>\n",
       "      <th>address</th>\n",
       "      <th>base_unit</th>\n",
       "      <th>cost_center</th>\n",
       "      <th>cost_center_desc</th>\n",
       "      <th>country</th>\n",
       "      <th>country_desc</th>\n",
       "      <th>...</th>\n",
       "      <th>purchasing_org</th>\n",
       "      <th>purchasing_org_desc</th>\n",
       "      <th>spend_cat_raw_l1</th>\n",
       "      <th>spend_cat_raw_l2</th>\n",
       "      <th>spend_cat_raw_l3</th>\n",
       "      <th>spend_cat_raw_l4</th>\n",
       "      <th>spend_cat_raw_l5</th>\n",
       "      <th>spend_group</th>\n",
       "      <th>vendor</th>\n",
       "      <th>vendor_desc</th>\n",
       "    </tr>\n",
       "  </thead>\n",
       "  <tbody>\n",
       "    <tr>\n",
       "      <th>0</th>\n",
       "      <td>0</td>\n",
       "      <td>0</td>\n",
       "      <td>N001/#</td>\n",
       "      <td>N001/Not assigned</td>\n",
       "      <td>#</td>\n",
       "      <td>LB</td>\n",
       "      <td>0042/#</td>\n",
       "      <td>0042/Not assigned</td>\n",
       "      <td>US</td>\n",
       "      <td>United States</td>\n",
       "      <td>...</td>\n",
       "      <td>US10</td>\n",
       "      <td>USA</td>\n",
       "      <td>Amino Acids</td>\n",
       "      <td>AA/ Single</td>\n",
       "      <td>AA/ Single</td>\n",
       "      <td>AA/ Single</td>\n",
       "      <td>AA/ Single</td>\n",
       "      <td>Raw</td>\n",
       "      <td>100873629</td>\n",
       "      <td>DSM Nutritional Products LLC</td>\n",
       "    </tr>\n",
       "    <tr>\n",
       "      <th>1</th>\n",
       "      <td>1</td>\n",
       "      <td>1</td>\n",
       "      <td>N001/#</td>\n",
       "      <td>N001/Not assigned</td>\n",
       "      <td>#</td>\n",
       "      <td>LB</td>\n",
       "      <td>0042/#</td>\n",
       "      <td>0042/Not assigned</td>\n",
       "      <td>US</td>\n",
       "      <td>United States</td>\n",
       "      <td>...</td>\n",
       "      <td>US10</td>\n",
       "      <td>USA</td>\n",
       "      <td>Amino Acids</td>\n",
       "      <td>AA/ Single</td>\n",
       "      <td>AA/ Single</td>\n",
       "      <td>AA/ Single</td>\n",
       "      <td>AA/ Single</td>\n",
       "      <td>Raw</td>\n",
       "      <td>100873629</td>\n",
       "      <td>DSM Nutritional Products LLC</td>\n",
       "    </tr>\n",
       "    <tr>\n",
       "      <th>2</th>\n",
       "      <td>2</td>\n",
       "      <td>2</td>\n",
       "      <td>N001/#</td>\n",
       "      <td>N001/Not assigned</td>\n",
       "      <td>#</td>\n",
       "      <td>KG</td>\n",
       "      <td>0028/#</td>\n",
       "      <td>0028/Not assigned</td>\n",
       "      <td>BR</td>\n",
       "      <td>Brazil</td>\n",
       "      <td>...</td>\n",
       "      <td>BR10</td>\n",
       "      <td>Brasil</td>\n",
       "      <td>Amino Acids</td>\n",
       "      <td>AA/ Single</td>\n",
       "      <td>AA/ Single</td>\n",
       "      <td>Not assigned</td>\n",
       "      <td>Not assigned</td>\n",
       "      <td>Raw</td>\n",
       "      <td>100828860</td>\n",
       "      <td>Ajinomoto do Brasil Industria e</td>\n",
       "    </tr>\n",
       "    <tr>\n",
       "      <th>3</th>\n",
       "      <td>3</td>\n",
       "      <td>3</td>\n",
       "      <td>N001/#</td>\n",
       "      <td>N001/Not assigned</td>\n",
       "      <td>#</td>\n",
       "      <td>G</td>\n",
       "      <td>0028/#</td>\n",
       "      <td>0028/Not assigned</td>\n",
       "      <td>BR</td>\n",
       "      <td>Brazil</td>\n",
       "      <td>...</td>\n",
       "      <td>BR10</td>\n",
       "      <td>Brasil</td>\n",
       "      <td>Amino Acids</td>\n",
       "      <td>AA/ Single</td>\n",
       "      <td>Not assigned</td>\n",
       "      <td>Not assigned</td>\n",
       "      <td>Not assigned</td>\n",
       "      <td>Raw</td>\n",
       "      <td>100828860</td>\n",
       "      <td>Ajinomoto do Brasil Industria e</td>\n",
       "    </tr>\n",
       "    <tr>\n",
       "      <th>4</th>\n",
       "      <td>4</td>\n",
       "      <td>4</td>\n",
       "      <td>N001/#</td>\n",
       "      <td>N001/Not assigned</td>\n",
       "      <td>#</td>\n",
       "      <td>G</td>\n",
       "      <td>0011/#</td>\n",
       "      <td>0011/Not assigned</td>\n",
       "      <td>US</td>\n",
       "      <td>United States</td>\n",
       "      <td>...</td>\n",
       "      <td>AR10</td>\n",
       "      <td>Argentina</td>\n",
       "      <td>Amino Acids</td>\n",
       "      <td>AA/ Single</td>\n",
       "      <td>Not assigned</td>\n",
       "      <td>Not assigned</td>\n",
       "      <td>Not assigned</td>\n",
       "      <td>Raw</td>\n",
       "      <td>100172802</td>\n",
       "      <td>Kyowa Hakko Usa Inc</td>\n",
       "    </tr>\n",
       "  </tbody>\n",
       "</table>\n",
       "<p>5 rows × 38 columns</p>\n",
       "</div>"
      ],
      "text/plain": [
       "   Unnamed: 0  index account_number account_number_desc address base_unit  \\\n",
       "0           0      0         N001/#   N001/Not assigned       #        LB   \n",
       "1           1      1         N001/#   N001/Not assigned       #        LB   \n",
       "2           2      2         N001/#   N001/Not assigned       #        KG   \n",
       "3           3      3         N001/#   N001/Not assigned       #         G   \n",
       "4           4      4         N001/#   N001/Not assigned       #         G   \n",
       "\n",
       "  cost_center   cost_center_desc country   country_desc  ...  purchasing_org  \\\n",
       "0      0042/#  0042/Not assigned      US  United States  ...            US10   \n",
       "1      0042/#  0042/Not assigned      US  United States  ...            US10   \n",
       "2      0028/#  0028/Not assigned      BR         Brazil  ...            BR10   \n",
       "3      0028/#  0028/Not assigned      BR         Brazil  ...            BR10   \n",
       "4      0011/#  0011/Not assigned      US  United States  ...            AR10   \n",
       "\n",
       "   purchasing_org_desc spend_cat_raw_l1 spend_cat_raw_l2 spend_cat_raw_l3  \\\n",
       "0                  USA      Amino Acids       AA/ Single       AA/ Single   \n",
       "1                  USA      Amino Acids       AA/ Single       AA/ Single   \n",
       "2               Brasil      Amino Acids       AA/ Single       AA/ Single   \n",
       "3               Brasil      Amino Acids       AA/ Single     Not assigned   \n",
       "4            Argentina      Amino Acids       AA/ Single     Not assigned   \n",
       "\n",
       "  spend_cat_raw_l4 spend_cat_raw_l5 spend_group     vendor  \\\n",
       "0       AA/ Single       AA/ Single         Raw  100873629   \n",
       "1       AA/ Single       AA/ Single         Raw  100873629   \n",
       "2     Not assigned     Not assigned         Raw  100828860   \n",
       "3     Not assigned     Not assigned         Raw  100828860   \n",
       "4     Not assigned     Not assigned         Raw  100172802   \n",
       "\n",
       "                       vendor_desc  \n",
       "0     DSM Nutritional Products LLC  \n",
       "1     DSM Nutritional Products LLC  \n",
       "2  Ajinomoto do Brasil Industria e  \n",
       "3  Ajinomoto do Brasil Industria e  \n",
       "4              Kyowa Hakko Usa Inc  \n",
       "\n",
       "[5 rows x 38 columns]"
      ]
     },
     "execution_count": 7,
     "metadata": {},
     "output_type": "execute_result"
    }
   ],
   "source": [
    "df.head()"
   ]
  },
  {
   "cell_type": "code",
   "execution_count": 8,
   "metadata": {},
   "outputs": [
    {
     "data": {
      "text/plain": [
       "(17947, 38)"
      ]
     },
     "execution_count": 8,
     "metadata": {},
     "output_type": "execute_result"
    }
   ],
   "source": [
    "df.shape"
   ]
  },
  {
   "cell_type": "code",
   "execution_count": 10,
   "metadata": {},
   "outputs": [
    {
     "data": {
      "text/plain": [
       "Fla/ Sweet                        4470\n",
       "Fla/ Savory                       2845\n",
       "C&G/ Wheat (not Durum)            1063\n",
       "Suc/ Solid                         830\n",
       "S&D/ Starch                        711\n",
       "Cof/ Arabica Green Coffee          697\n",
       "DP/ Skimmed Milk Powder            557\n",
       "Coc/ Powder                        542\n",
       "DP/ Whey                           512\n",
       "DP/ Cheese                         476\n",
       "Cof/ Robusta Green Coffee          462\n",
       "Coc/ Bean                          440\n",
       "S&D/ Maltodextrin&glucose pwdr     417\n",
       "C&G/ Corn                          393\n",
       "AA/ Single                         356\n",
       "C&G/ Rice                          339\n",
       "S&D/ Glucose Syrup                 316\n",
       "DP/ Milk Fat                       291\n",
       "DP/ Lactose                        249\n",
       "C&G/ Oat                           210\n",
       "DP/ Whole Milk Powder              166\n",
       "C&G/ Barley                        160\n",
       "DP/ Casein                         154\n",
       "DP/ Raw Milk                       146\n",
       "DP/ Processed Liquid Milk          112\n",
       "S&D/ Dextrose (Glucose Pwdr)       111\n",
       "Suc/ Liquid                         98\n",
       "Coc/ Butter                         93\n",
       "DP/ Milk Protein Concentrate        89\n",
       "Coc/ Mass                           78\n",
       "S&D/ Resistant dextrins             78\n",
       "DP/ Yoghurt                         67\n",
       "S&D/ Polyols                        65\n",
       "C&G/ Durum Wheat                    51\n",
       "C&G/ Quinoa                         42\n",
       "S&D/ Fructose (not HFCS)            35\n",
       "C&G/ Rye                            26\n",
       "C&G/ Millet                         26\n",
       "C&G/ Sorghum                        26\n",
       "DP/ Milk Mineral                    18\n",
       "DP/ Affordable Milk Powder          16\n",
       "C&G/ Buckwheat                      15\n",
       "C&G/ Mixed Grains                   14\n",
       "DP/ Growing Up Milk Powder          13\n",
       "AA/ Pre Mix                         12\n",
       "Cof/ Soluble                        11\n",
       "C&G/ Spelt                           9\n",
       "Cof/Oil,Aroma & Extract              6\n",
       "C&G/ Wild Rice                       6\n",
       "Cof/ Blended Green Coffee            6\n",
       "Coc/ Cake                            5\n",
       "Suc/ Caramel                         5\n",
       "C&G/ Triticale                       4\n",
       "DP/ Lactose Derivatives              3\n",
       "C&G/ Amaranth                        3\n",
       "Cof/ Roast & Ground                  2\n",
       "Name: label_l2, dtype: int64"
      ]
     },
     "execution_count": 10,
     "metadata": {},
     "output_type": "execute_result"
    }
   ],
   "source": [
    "df.label_l2.value_counts()"
   ]
  },
  {
   "cell_type": "code",
   "execution_count": null,
   "metadata": {},
   "outputs": [],
   "source": []
  }
 ],
 "metadata": {
  "kernelspec": {
   "display_name": "Python 3",
   "language": "python",
   "name": "python3"
  },
  "language_info": {
   "codemirror_mode": {
    "name": "ipython",
    "version": 3
   },
   "file_extension": ".py",
   "mimetype": "text/x-python",
   "name": "python",
   "nbconvert_exporter": "python",
   "pygments_lexer": "ipython3",
   "version": "3.7.3"
  }
 },
 "nbformat": 4,
 "nbformat_minor": 2
}
